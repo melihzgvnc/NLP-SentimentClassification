{
 "cells": [
  {
   "cell_type": "code",
   "execution_count": 1,
   "id": "31c2c77d",
   "metadata": {},
   "outputs": [
    {
     "name": "stderr",
     "output_type": "stream",
     "text": [
      "[nltk_data] Downloading package punkt to\n",
      "[nltk_data]     C:\\Users\\melih\\AppData\\Roaming\\nltk_data...\n",
      "[nltk_data]   Package punkt is already up-to-date!\n",
      "[nltk_data] Downloading package stopwords to\n",
      "[nltk_data]     C:\\Users\\melih\\AppData\\Roaming\\nltk_data...\n",
      "[nltk_data]   Package stopwords is already up-to-date!\n",
      "[nltk_data] Downloading package movie_reviews to\n",
      "[nltk_data]     C:\\Users\\melih\\AppData\\Roaming\\nltk_data...\n",
      "[nltk_data]   Package movie_reviews is already up-to-date!\n"
     ]
    }
   ],
   "source": [
    "#set up nltk\n",
    "import nltk\n",
    "nltk.download('punkt')\n",
    "nltk.download('stopwords')\n",
    "nltk.download('movie_reviews')\n",
    "from nltk.corpus import stopwords\n",
    "from nltk.tokenize import word_tokenize\n",
    "from nltk.corpus import movie_reviews\n",
    "\n",
    "#for setting up training and testing data\n",
    "import random\n",
    "\n",
    "#useful other tools\n",
    "import re\n",
    "import pandas as pd\n",
    "import matplotlib.pyplot as plt\n",
    "%matplotlib inline\n",
    "from itertools import zip_longest\n",
    "from nltk.probability import FreqDist\n",
    "from nltk.classify.api import ClassifierI\n",
    "\n",
    "def split_data(data, ratio=0.7): # when the ratio argument is not given, it defaults to 0.7\n",
    "    \"\"\"\n",
    "    Given corpus generator and ratio:\n",
    "     - partitions the corpus into training data and test data, where the proportion in train is ratio,\n",
    "\n",
    "    :param data: A corpus generator.\n",
    "    :param ratio: The proportion of training documents (default 0.7)\n",
    "    :return: a pair (tuple) of lists where the first element of the \n",
    "            pair is a list of the training data and the second is a list of the test data.\n",
    "    \"\"\"\n",
    "    \n",
    "    data = list(data)  \n",
    "    n = len(data)  \n",
    "    train_indices = random.sample(range(n), int(n * ratio))          \n",
    "    test_indices = list(set(range(n)) - set(train_indices))    \n",
    "    train = [data[i] for i in train_indices]           \n",
    "    test = [data[i] for i in test_indices]             \n",
    "    return (train, test)                       \n",
    "\n",
    "def get_train_test_data():\n",
    "    \n",
    "    #get ids of positive and negative movie reviews\n",
    "    pos_review_ids=movie_reviews.fileids('pos')\n",
    "    neg_review_ids=movie_reviews.fileids('neg')\n",
    "   \n",
    "    #split positive and negative data into training and testing sets\n",
    "    pos_train_ids, pos_test_ids = split_data(pos_review_ids)\n",
    "    neg_train_ids, neg_test_ids = split_data(neg_review_ids)\n",
    "    #add labels to the data and concatenate\n",
    "    training = [(movie_reviews.words(f),'pos') for f in pos_train_ids]+[(movie_reviews.words(f),'neg') for f in neg_train_ids]\n",
    "    testing = [(movie_reviews.words(f),'pos') for f in pos_test_ids]+[(movie_reviews.words(f),'neg') for f in neg_test_ids]\n",
    "   \n",
    "    return training, testing"
   ]
  },
  {
   "cell_type": "code",
   "execution_count": 2,
   "id": "b824e664",
   "metadata": {},
   "outputs": [
    {
     "name": "stdout",
     "output_type": "stream",
     "text": [
      "The amount of training data is 1400\n",
      "The amount of testing data is 600\n",
      "The representation of a single data item is below\n",
      "(['the', 'summer', 'movie', 'season', 'is', 'always', ...], 'pos')\n"
     ]
    }
   ],
   "source": [
    "random.seed(42)\n",
    "training_data,testing_data=get_train_test_data()\n",
    "print(\"The amount of training data is {}\".format(len(training_data)))\n",
    "print(\"The amount of testing data is {}\".format(len(testing_data)))\n",
    "print(\"The representation of a single data item is below\")\n",
    "print(training_data[0])"
   ]
  },
  {
   "cell_type": "code",
   "execution_count": 3,
   "id": "1860a810",
   "metadata": {},
   "outputs": [],
   "source": [
    "#preprocessing\n",
    "import string\n",
    "from nltk.stem import WordNetLemmatizer\n",
    "\n",
    "#removal of digits, punctuation and stopwords\n",
    "puncts = string.punctuation\n",
    "stop_words = stopwords.words(\"english\")\n",
    "\n",
    "lemma = WordNetLemmatizer()\n",
    "\n",
    "training_data = [([lemma.lemmatize(word) for word in doc if (word not in puncts and word not in stop_words and word.isalpha())],label) for doc,label in training_data]\n",
    "testing_data = [([lemma.lemmatize(word) for word in doc if (word not in puncts and word not in stop_words and word.isalpha())],label) for doc,label in testing_data]\n"
   ]
  },
  {
   "cell_type": "code",
   "execution_count": 4,
   "id": "ad81de10",
   "metadata": {},
   "outputs": [],
   "source": [
    "def word_list_generator(training_data,list_length=10):\n",
    "    '''\n",
    "    A method to generate lists of given length from both tags which are positive and negative.\n",
    "    \n",
    "    :param training_data: data from which the lists will generated\n",
    "    :param list_length: the length of the lists\n",
    "    \n",
    "    :return: positive and negative word lists\n",
    "\n",
    "    '''    \n",
    "    training_freqs = [(FreqDist(doc),label) for doc,label in training_data]\n",
    "    pos_word_freqs = FreqDist()\n",
    "    neg_word_freqs = FreqDist()\n",
    "    \n",
    "    #finding out the frequencies of words in each category\n",
    "    for doc,label in training_freqs:\n",
    "        if label == 'pos':\n",
    "            pos_word_freqs += doc\n",
    "        else:\n",
    "            neg_word_freqs += doc\n",
    "            \n",
    "    #separation the pairs into two seperate lists\n",
    "    #single underscore here is used as a throw-away variable\n",
    "    pos_words, _ = zip(*pos_word_freqs.most_common(list_length))\n",
    "    neg_words, _ = zip(*neg_word_freqs.most_common(list_length))\n",
    "    \n",
    "    return pos_words, neg_words\n",
    "\n",
    "pos_words, neg_words = word_list_generator(training_data)"
   ]
  },
  {
   "cell_type": "code",
   "execution_count": 5,
   "id": "0e035a00",
   "metadata": {
    "scrolled": true
   },
   "outputs": [
    {
     "data": {
      "text/plain": [
       "('film',\n",
       " 'one',\n",
       " 'movie',\n",
       " 'character',\n",
       " 'like',\n",
       " 'time',\n",
       " 'scene',\n",
       " 'make',\n",
       " 'story',\n",
       " 'get')"
      ]
     },
     "execution_count": 5,
     "metadata": {},
     "output_type": "execute_result"
    }
   ],
   "source": [
    "pos_words"
   ]
  },
  {
   "cell_type": "markdown",
   "id": "212c5f57",
   "metadata": {},
   "source": [
    "#### Basic Word List Classifier\n",
    "\n",
    "This is a very straightforward algorithm to classify text data. What it does is to look at the lists -generated by the `word_list_generator` method- and find the common words in the lists and in the test data. Then, if it finds more match in the positive lists than the negative, it predicts the data as positive. Otherwise, negative. "
   ]
  },
  {
   "cell_type": "code",
   "execution_count": 6,
   "id": "f8c1b36f",
   "metadata": {},
   "outputs": [],
   "source": [
    "class WordListClassifier(ClassifierI):\n",
    "    \n",
    "    def __init__(self):\n",
    "        pass\n",
    "    \n",
    "    def train(self, training_data, list_length=10):\n",
    "        self.pos_words, self.neg_words = word_list_generator(training_data,list_length)\n",
    "    \n",
    "    def classify(self, test_data):\n",
    "        score = 0\n",
    "        \n",
    "        for word in test_data:\n",
    "            if word in self.pos_words:\n",
    "                score += 1\n",
    "            if word in self.neg_words:\n",
    "                score -= 1\n",
    "        if score > 0:\n",
    "            return 'pos'\n",
    "        elif score < 0:\n",
    "            return 'neg'\n",
    "        else:\n",
    "            return random.choice(['pos','neg'])\n",
    "        \n",
    "    def labels(self):\n",
    "        return (['pos','neg'])"
   ]
  },
  {
   "cell_type": "code",
   "execution_count": 7,
   "id": "e266f19b",
   "metadata": {},
   "outputs": [],
   "source": [
    "wl_cls = WordListClassifier()\n",
    "wl_cls.train(training_data)\n",
    "wl_preds = wl_cls.classify_many([doc for doc,_ in testing_data])\n",
    "\n",
    "true_labels = [label for _,label in testing_data]"
   ]
  },
  {
   "cell_type": "code",
   "execution_count": 8,
   "id": "ad482c5c",
   "metadata": {},
   "outputs": [],
   "source": [
    "#confusion matrix and metrics to assess the model's performance\n",
    "from sklearn.metrics import ConfusionMatrixDisplay\n",
    "\n",
    "def confusion_matrix(preds,true_labels):\n",
    "    ConfusionMatrixDisplay.from_predictions(true_labels,preds)\n",
    "    plt.title(\"Confusion Matrix\")\n",
    "    plt.show()\n",
    "    \n",
    "    tp, tn, fp, fn = 0, 0, 0, 0\n",
    "    \n",
    "    for i in range(len(preds)):\n",
    "        if preds[i] == true_labels[i]:\n",
    "            if preds[i] == 'pos':\n",
    "                tp += 1\n",
    "            else:\n",
    "                tn += 1\n",
    "        else:\n",
    "            if preds[i] == 'pos':\n",
    "                fp += 1\n",
    "            else:\n",
    "                fn += 1\n",
    "    return (tp, tn, fp, fn)\n",
    "\n",
    "def metrics(tp, tn, fp, fn):\n",
    "    precision = tp/(tp+fp)\n",
    "    recall = tp/(tp+fn)\n",
    "    f1_score = 2*precision*recall/(precision+recall)\n",
    "    accuracy = (tp+tn)/(tp+tn+fp+fn)\n",
    "\n",
    "    print(pd.DataFrame({\"Metrics\":[precision,recall,f1_score,accuracy]},index=['Precision','Recall','F1 Score','Accuracy']))"
   ]
  },
  {
   "cell_type": "code",
   "execution_count": 9,
   "id": "fda2393f",
   "metadata": {},
   "outputs": [
    {
     "data": {
      "image/png": "[encoded data removed]",
      "text/plain": [
       "<Figure size 432x288 with 2 Axes>"
      ]
     },
     "metadata": {
      "needs_background": "light"
     },
     "output_type": "display_data"
    },
    {
     "name": "stdout",
     "output_type": "stream",
     "text": [
      "            Metrics\n",
      "Precision  0.550000\n",
      "Recall     0.513333\n",
      "F1 Score   0.531034\n",
      "Accuracy   0.546667\n"
     ]
    }
   ],
   "source": [
    "tp, tn, fp, fn = confusion_matrix(wl_preds,true_labels)\n",
    "metrics(tp, tn, fp, fn)"
   ]
  },
  {
   "cell_type": "markdown",
   "id": "15a81d9b",
   "metadata": {},
   "source": [
    "#### Naive Bayes Classifier"
   ]
  },
  {
   "cell_type": "code",
   "execution_count": 10,
   "id": "62b15947",
   "metadata": {},
   "outputs": [],
   "source": [
    "from nltk.classify.api import ClassifierI\n",
    "import math\n",
    "import random\n",
    "\n",
    "\n",
    "class NBClassifier(ClassifierI):\n",
    "    \n",
    "    def __init__(self):   \n",
    "        pass\n",
    "    \n",
    "    def known_vocabulary(self,training_data):\n",
    "        known_vocab = []\n",
    "        known_vocab += [word for doc,_ in training_data for word in doc.keys()]\n",
    "        self.known_vocab = set(known_vocab)\n",
    "    \n",
    "    #class priors -P(weather) and P(football) in our case \n",
    "    def class_priors(self,training_data):\n",
    "        priors = {}\n",
    "        total = 0\n",
    "        for doc,label in training_data:\n",
    "            if label in priors:\n",
    "                priors[label] += 1\n",
    "            else:\n",
    "                priors[label] = 1\n",
    "            total += 1\n",
    "\n",
    "        for label in priors.keys():\n",
    "            priors[label] = priors[label]/total     \n",
    "        self.priors = priors\n",
    "    \n",
    "    #conditional probabilities with add-one smoothing\n",
    "    def cond_probs(self,training_data):\n",
    "        probs = {}\n",
    "        for doc,label in training_data:\n",
    "            if label in probs.keys():\n",
    "                probs[label] = probs[label] + doc\n",
    "            else:\n",
    "                probs[label] = doc\n",
    "        \n",
    "        #add-one smoothing\n",
    "        total = {}\n",
    "        for label in probs.keys():\n",
    "            total[label] = 0\n",
    "            for word in self.known_vocab:\n",
    "                total[label] += probs[label].get(word,0)\n",
    "                probs[label][word] = probs[label].get(word,0) + 1\n",
    "\n",
    "        for label in probs.keys():\n",
    "            for word in self.known_vocab:\n",
    "                probs[label][word] = probs[label][word]/(total[label]+len(self.known_vocab))\n",
    "        self.probs = probs\n",
    "    \n",
    "    def train(self,training_data):\n",
    "        self.known_vocabulary(training_data)\n",
    "        self.class_priors(training_data)\n",
    "        self.cond_probs(training_data)\n",
    "    \n",
    "    def classify(self,doc):\n",
    "        doc_probs={key:math.log(value) for key,value in self.priors.items()}\n",
    "        for label in doc_probs:\n",
    "            for word in doc.keys():\n",
    "                #here we ignore the words not present in our known vocabulary\n",
    "                if word in self.known_vocab:\n",
    "                    doc_probs[label] = doc_probs[label] + self.probs[label].get(word,0)\n",
    "\n",
    "        highprob=max(doc_probs.values())\n",
    "        classes=[c for c in doc_probs.keys() if doc_probs[c]==highprob]\n",
    "        return random.choice(classes)   \n",
    "    "
   ]
  },
  {
   "cell_type": "code",
   "execution_count": 11,
   "id": "07856d03",
   "metadata": {},
   "outputs": [
    {
     "data": {
      "image/png": "[encoded data removed]",
      "text/plain": [
       "<Figure size 432x288 with 2 Axes>"
      ]
     },
     "metadata": {
      "needs_background": "light"
     },
     "output_type": "display_data"
    },
    {
     "name": "stdout",
     "output_type": "stream",
     "text": [
      "            Metrics\n",
      "Precision  0.841026\n",
      "Recall     0.546667\n",
      "F1 Score   0.662626\n",
      "Accuracy   0.721667\n"
     ]
    }
   ],
   "source": [
    "training_data_freqs = [(FreqDist(doc),label) for doc,label in training_data]\n",
    "testing_data_freqs = [(FreqDist(doc),label) for doc,label in testing_data]\n",
    "\n",
    "nb_cls = NBClassifier()\n",
    "nb_cls.train(training_data_freqs)\n",
    "nb_preds = nb_cls.classify_many([doc for doc,_ in testing_data_freqs])\n",
    "\n",
    "tp,tn,fp,fn=confusion_matrix(nb_preds, true_labels)\n",
    "metrics(tp,tn,fp,fn)"
   ]
  },
  {
   "cell_type": "code",
   "execution_count": null,
   "id": "75fb27f3",
   "metadata": {},
   "outputs": [],
   "source": [
    "git status"
   ]
  },
  {
   "cell_type": "code",
   "execution_count": null,
   "id": "84b39922",
   "metadata": {},
   "outputs": [],
   "source": []
  }
 ],
 "metadata": {
  "kernelspec": {
   "display_name": "Python 3 (ipykernel)",
   "language": "python",
   "name": "python3"
  },
  "language_info": {
   "codemirror_mode": {
    "name": "ipython",
    "version": 3
   },
   "file_extension": ".py",
   "mimetype": "text/x-python",
   "name": "python",
   "nbconvert_exporter": "python",
   "pygments_lexer": "ipython3",
   "version": "3.9.12"
  }
 },
 "nbformat": 4,
 "nbformat_minor": 5
}
